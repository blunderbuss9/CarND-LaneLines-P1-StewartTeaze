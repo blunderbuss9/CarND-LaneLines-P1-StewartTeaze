{
 "cells": [
  {
   "cell_type": "markdown",
   "metadata": {
    "deletable": true,
    "editable": true
   },
   "source": [
    "# Self-Driving Car Engineer Nanodegree\n",
    "## Term 1, Project 1: **Finding Lane Lines on the Road**\n",
    "### Jupyter Notebook for Project: CarND-LaneLines-P1"
   ]
  },
  {
   "cell_type": "code",
   "execution_count": 1,
   "metadata": {
    "collapsed": true,
    "deletable": true,
    "editable": true
   },
   "outputs": [],
   "source": [
    "# Import packages, and setup associated shorthand names.\n",
    "import matplotlib.pyplot as plt\n",
    "import matplotlib.image as mpimg\n",
    "import numpy as np\n",
    "import cv2\n",
    "import math\n",
    "%matplotlib inline\n",
    "from moviepy.editor import VideoFileClip\n",
    "from IPython.display import HTML"
   ]
  },
  {
   "cell_type": "code",
   "execution_count": 62,
   "metadata": {
    "collapsed": false,
    "deletable": true,
    "editable": true
   },
   "outputs": [],
   "source": [
    "# Define helpful functions\n",
    "def grayscale(img):\n",
    "    \"\"\"Applies the Grayscale transform\n",
    "    This will return an image with only one color channel\n",
    "    but NOTE: to see the returned image as grayscale\n",
    "    (assuming your grayscaled image is called 'gray')\n",
    "    you should call plt.imshow(gray, cmap='gray')\"\"\"\n",
    "    return cv2.cvtColor(img, cv2.COLOR_RGB2GRAY)\n",
    "    # Or use BGR2GRAY if you read an image with cv2.imread()\n",
    "    # return cv2.cvtColor(img, cv2.COLOR_BGR2GRAY)\n",
    "\n",
    "def gaussian_blur(img, kernel_size):\n",
    "    \"\"\"Applies a Gaussian Noise kernel\"\"\"\n",
    "    return cv2.GaussianBlur(img, (kernel_size, kernel_size), 0)\n",
    "\n",
    "def canny(img, low_threshold, high_threshold):\n",
    "    \"\"\"Applies the Canny transform\"\"\"\n",
    "    return cv2.Canny(img, low_threshold, high_threshold)\n",
    "\n",
    "def region_of_interest(img, vertices):\n",
    "    \"\"\"\n",
    "    Applies an image mask.\n",
    "    \n",
    "    Only keeps the region of the image defined by the polygon\n",
    "    formed from `vertices`. The rest of the image is set to black.\n",
    "    \"\"\"\n",
    "    #defining a blank mask to start with\n",
    "    mask = np.zeros_like(img)   \n",
    "    \n",
    "    #defining a 3 channel or 1 channel color to fill the mask with depending on the input image\n",
    "    if len(img.shape) > 2:\n",
    "        channel_count = img.shape[2]  # i.e. 3 or 4 depending on your image\n",
    "        ignore_mask_color = (255,) * channel_count\n",
    "    else:\n",
    "        ignore_mask_color = 255\n",
    "        \n",
    "    #filling pixels inside the polygon defined by \"vertices\" with the fill color    \n",
    "    cv2.fillPoly(mask, vertices, ignore_mask_color)\n",
    "    \n",
    "    #returning the image only where mask pixels are nonzero\n",
    "    masked_image = cv2.bitwise_and(img, mask)\n",
    "    return masked_image\n",
    "\n",
    "def draw_lines(img, lines, color=[255, 0, 0], thickness=5):\n",
    "    \"\"\"\n",
    "    Average/extrapolate the line segments you detect to map out the full\n",
    "    extent of the lane. Separate line segments by their \n",
    "    slope ((y2-y1)/(x2-x1)) to decide which segments are part of the left\n",
    "    line vs. the right line.  Then, average the position of each of \n",
    "    the lines and extrapolate to the top and bottom of the lane.\n",
    "\n",
    "    NOTE: The input parameter \"lines\" is a structure array, whose format\n",
    "    matches that of the return value (of an earlier call to)\n",
    "    cv2.HoughLinesP.\n",
    "    \"lines\" length equals the number of merged line segments found.\n",
    "    Each element of the structure array has these fields: \n",
    "      point1    End-point of the line segment; two-element vector\n",
    "      point2    End-point of the line segment; two-element vector\n",
    "      length    Distance between point1 and point2\n",
    "      theta     Angle (in degrees) of the Hough transform bin\n",
    "      rho       Rho-axis position of the Hough transform bin\n",
    "    \n",
    "    This function draws `lines` with `color` and `thickness`.    \n",
    "    Lines are drawn on the image inplace (mutates the image).\n",
    "    If you want to make the lines semi-transparent, think about combining\n",
    "    this function with the weighted_img() function below\n",
    "    \"\"\"  \n",
    "    # initialize working variables; for calculating average slope, & upper-most(on screen) y coords\n",
    "    right_x1_total = 0.0; right_x2_total = 0.0; right_y1_total = 0.0; right_y2_total = 0.0\n",
    "    left_x1_total = 0.0; left_x2_total = 0.0; left_y1_total = 0.0; left_y2_total = 0.0\n",
    "    right_line_count = 0; left_line_count = 0 # number of lines to be averaged for right and left lanes\n",
    "    ysize = img.shape[0] # Pull out the y size of the image\n",
    "    right_lowest_y1 = ysize-160 # lowest y1 - upper-most(on screen) y coord found in all the left lane lines\n",
    "    left_lowest_y1 = ysize-160  # lowest y1 - upper-most(on screen) y coord found in all the right lane lines\n",
    "    \n",
    "    # Prepare to calculate average slope of right and left lane lines\n",
    "    for line in lines:\n",
    "        for x1,y1,x2,y2 in line:\n",
    "            slope=(y2-y1)/(x2-x1) # slope of this line\n",
    "            if (slope>0.0):\n",
    "                # process a right lane line, as long as it isn't an outlier\n",
    "                if x1 > 480:\n",
    "                    right_line_count += 1\n",
    "                    right_x1_total += x1; right_x2_total += x2; right_y1_total += y1; right_y2_total += y2\n",
    "                    if y1 < right_lowest_y1:\n",
    "                        right_lowest_y1 = y1\n",
    "            else:\n",
    "                # process a left lane line, as long as it isn't an outlier\n",
    "                if x1 < 470:\n",
    "                    # process a left lane line\n",
    "                    left_line_count += 1\n",
    "                    left_x1_total += x1; left_x2_total += x2; left_y1_total += y1; left_y2_total += y2\n",
    "                    if y1 < left_lowest_y1:\n",
    "                        left_lowest_y1 = y1\n",
    "    \n",
    "    if right_line_count > 0:\n",
    "        # calculate average (x1,y1)(x2,y2) coords of right lane lines\n",
    "        right_x1_avg = int(right_x1_total/right_line_count)\n",
    "        right_y1_avg = int(right_y1_total/right_line_count)\n",
    "        right_x2_avg = int(right_x2_total/right_line_count)\n",
    "        right_y2_avg = int(right_y2_total/right_line_count)\n",
    "        right_avg_slope = (right_y2_avg-right_y1_avg)/(right_x2_avg-right_x1_avg)\n",
    "        # Figure out (extrapolate) the lower (on screen; higher numerically) xcoords of the lane lines\n",
    "        # (by solving for x2 in the slope equation for a line)\n",
    "        right_lower_xcoord = int((ysize - right_y1_avg)/right_avg_slope + right_x1_avg)\n",
    "        right_upper_xcoord = int(-((right_y2_avg - right_lowest_y1)/right_avg_slope - right_x2_avg))\n",
    "        # Draw extrapolated right and left lane lines\n",
    "        color=[255, 0, 0]\n",
    "        cv2.line(img, (right_upper_xcoord, right_lowest_y1), (right_lower_xcoord, ysize), color, thickness)\n",
    "        \n",
    "    if left_line_count > 0:   \n",
    "        left_x1_avg = int(left_x1_total/left_line_count)\n",
    "        left_y1_avg = int(left_y1_total/left_line_count)\n",
    "        left_x2_avg = int(left_x2_total/left_line_count)\n",
    "        left_y2_avg = int(left_y2_total/left_line_count) \n",
    "        left_avg_slope = (left_y2_avg-left_y1_avg)/(left_x2_avg-left_x1_avg)\n",
    "        left_lower_xcoord = int((ysize - left_y1_avg)/left_avg_slope + left_x1_avg)\n",
    "        left_upper_xcoord = int(-((left_y2_avg - left_lowest_y1)/left_avg_slope - left_x2_avg))\n",
    "        color=[255, 0, 0]    \n",
    "        cv2.line(img, (left_upper_xcoord, left_lowest_y1), (left_lower_xcoord, ysize), color, thickness)\n",
    "    \n",
    "def hough_lines(img, rho, theta, threshold, min_line_len, max_line_gap):\n",
    "    \"\"\"\n",
    "    `img` should be the output of a Canny transform.\n",
    "        \n",
    "    Returns an image with hough lines drawn.\n",
    "    \"\"\"\n",
    "    lines = cv2.HoughLinesP(img, rho, theta, threshold, np.array([]), minLineLength=min_line_len, maxLineGap=max_line_gap)\n",
    "    line_img = np.zeros((img.shape[0], img.shape[1], 3), dtype=np.uint8)\n",
    "    draw_lines(line_img, lines)\n",
    "    return line_img\n",
    "\n",
    "def weighted_img(img, initial_img, α=0.8, β=1., λ=0.):\n",
    "    \"\"\"\n",
    "    `img` is the output of the hough_lines(), An image with lines drawn on it.\n",
    "    Should be a blank image (all black) with lines drawn on it.\n",
    "    \n",
    "    `initial_img` should be the image before any processing.\n",
    "    \n",
    "    The result image is computed as follows:\n",
    "    \n",
    "    initial_img * α + img * β + λ\n",
    "    NOTE: initial_img and img must be the same shape!\n",
    "    \"\"\"\n",
    "    return cv2.addWeighted(initial_img, α, img, β, λ)"
   ]
  },
  {
   "cell_type": "code",
   "execution_count": 78,
   "metadata": {
    "collapsed": false,
    "deletable": true,
    "editable": true,
    "scrolled": false
   },
   "outputs": [],
   "source": [
    "# Define the function containing the Lane Detection Pipeline\n",
    "def process_image(img):\n",
    "    \"\"\"\n",
    "    `img` should be the initial image.\n",
    "    \n",
    "    The result is an image with highlighted lane lines overlayed\n",
    "    on the initial image.\n",
    "    \"\"\"\n",
    "    # convert the initial image to grayscale\n",
    "    gray = grayscale(img)\n",
    "\n",
    "    # Apply Gaussian smoothing with kernel size of 5, on the gray scale image,\n",
    "    # to create blurred Gray Scale image\n",
    "    blur_gray = cv2.GaussianBlur(gray,(5, 5),0)\n",
    "\n",
    "    # Apply Canny transform with low_threshold of 45, and high_threshold of 160,\n",
    "    # on the blurred Gray Scale image, to create a blurred Canny transformed image\n",
    "    edges = cv2.Canny(blur_gray, 45, 160)\n",
    "\n",
    "    # Define a four sided polygon to mask\n",
    "    imshape = img.shape\n",
    "    vertices = np.array([[(40,imshape[0]),(440, 324), (510, 324), (imshape[1]-30,imshape[0])]], dtype=np.int32)\n",
    "    \n",
    "    # Create an image with edges masked, from the blurred Canny transformed image\n",
    "    masked_img = region_of_interest(edges, vertices)\n",
    "\n",
    "    # Create a line image, to be used to overlay on original image, using function hough_lines,\n",
    "    # with parameters: rho=2, theta=np.pi/180, threshold=3, min_line_len=11, max_line_gap=7\n",
    "    line_img = hough_lines(masked_img, 2, np.pi/180, 3, 12, 6)\n",
    "\n",
    "    # Overlay the line image on top of the original image, to create the final image\n",
    "    return weighted_img(line_img, img, α=0.8, β=1., λ=0.)"
   ]
  },
  {
   "cell_type": "markdown",
   "metadata": {},
   "source": [
    "## process_image pipeline function Test Images"
   ]
  },
  {
   "cell_type": "code",
   "execution_count": 91,
   "metadata": {
    "collapsed": false
   },
   "outputs": [],
   "source": [
    "# Perform tests of the process_image pipeline function,\n",
    "# using all images from the test_images directory,\n",
    "# saving all output files to the test_images_output directory;\n",
    "# as instructed in the Test Images & Build a Lane Finding Pipeline sections\n",
    "# of the CarND-LaneLines-P1-master/P1.ipynb file.\n",
    "image = mpimg.imread('test_images/solidYellowleft.jpg')\n",
    "final_img = process_image(image)\n",
    "mpimg.imsave('test_images_output/solidYellowleft.jpg',final_img)\n",
    "image = mpimg.imread('test_images/solidWhiteRight.jpg')\n",
    "final_img = process_image(image)\n",
    "mpimg.imsave('test_images_output/solidWhiteRight.jpg',final_img)\n",
    "image = mpimg.imread('test_images/SolidWhiteCurve.jpg')\n",
    "final_img = process_image(image)\n",
    "mpimg.imsave('test_images_output/solidWhiteCurve.jpg',final_img)\n",
    "image = mpimg.imread('test_images/SolidYellowCurve.jpg')\n",
    "final_img = process_image(image)\n",
    "mpimg.imsave('test_images_output/solidYellowCurve.jpg',final_img)\n",
    "image = mpimg.imread('test_images/SolidYellowCurve2.jpg')\n",
    "final_img = process_image(image)\n",
    "mpimg.imsave('test_images_output/solidYellowCurve2.jpg',final_img)\n",
    "image = mpimg.imread('test_images/whiteCarLaneSwitch.jpg')\n",
    "final_img = process_image(image)\n",
    "mpimg.imsave('test_images_output/whiteCarLaneSwitch.jpg',final_img)"
   ]
  },
  {
   "cell_type": "markdown",
   "metadata": {},
   "source": [
    "## process_image pipeline function Video Tests"
   ]
  },
  {
   "cell_type": "code",
   "execution_count": 81,
   "metadata": {
    "collapsed": false,
    "deletable": true,
    "editable": true,
    "scrolled": false
   },
   "outputs": [
    {
     "name": "stdout",
     "output_type": "stream",
     "text": [
      "[MoviePy] >>>> Building video test_videos_output/solidWhiteRight.mp4\n",
      "[MoviePy] Writing video test_videos_output/solidWhiteRight.mp4\n"
     ]
    },
    {
     "name": "stderr",
     "output_type": "stream",
     "text": [
      "100%|██████████████████████████████████████████████████████████████████████████████▋| 221/222 [00:01<00:00, 111.45it/s]\n"
     ]
    },
    {
     "name": "stdout",
     "output_type": "stream",
     "text": [
      "[MoviePy] Done.\n",
      "[MoviePy] >>>> Video ready: test_videos_output/solidWhiteRight.mp4 \n",
      "\n",
      "Wall time: 2.26 s\n"
     ]
    }
   ],
   "source": [
    "# Now test process_image with solidWhiteRight.mp4 video input file;\n",
    "# and write out the resulting video file to 'test_videos_output' directory\n",
    "white_output = 'test_videos_output/solidWhiteRight.mp4'\n",
    "clip1 = VideoFileClip(\"test_videos/solidWhiteRight.mp4\")\n",
    "white_clip = clip1.fl_image(process_image) #NOTE: this function expects color images!!\n",
    "%time white_clip.write_videofile(white_output, audio=False)"
   ]
  },
  {
   "cell_type": "code",
   "execution_count": 82,
   "metadata": {
    "collapsed": false,
    "deletable": true,
    "editable": true,
    "scrolled": false
   },
   "outputs": [
    {
     "data": {
      "text/html": [
       "\n",
       "<video width=\"960\" height=\"540\" controls>\n",
       "  <source src=\"test_videos_output/solidWhiteRight.mp4\">\n",
       "</video>\n"
      ],
      "text/plain": [
       "<IPython.core.display.HTML object>"
      ]
     },
     "execution_count": 82,
     "metadata": {},
     "output_type": "execute_result"
    }
   ],
   "source": [
    "HTML(\"\"\"\n",
    "<video width=\"960\" height=\"540\" controls>\n",
    "  <source src=\"{0}\">\n",
    "</video>\n",
    "\"\"\".format(white_output))"
   ]
  },
  {
   "cell_type": "code",
   "execution_count": 92,
   "metadata": {
    "collapsed": false,
    "deletable": true,
    "editable": true
   },
   "outputs": [
    {
     "name": "stdout",
     "output_type": "stream",
     "text": [
      "[MoviePy] >>>> Building video test_videos_output/solidYellowLeft.mp4\n",
      "[MoviePy] Writing video test_videos_output/solidYellowLeft.mp4\n"
     ]
    },
    {
     "name": "stderr",
     "output_type": "stream",
     "text": [
      "100%|██████████████████████████████████████████████████████████████████████████████▉| 681/682 [00:06<00:00, 110.08it/s]\n"
     ]
    },
    {
     "name": "stdout",
     "output_type": "stream",
     "text": [
      "[MoviePy] Done.\n",
      "[MoviePy] >>>> Video ready: test_videos_output/solidYellowLeft.mp4 \n",
      "\n",
      "Wall time: 6.46 s\n"
     ]
    }
   ],
   "source": [
    "# Now test process_image with solidWhiteRight.mp4 video input file;\n",
    "# and write out the resulting video file to 'test_videos_output' directory\n",
    "yellow_output = 'test_videos_output/solidYellowLeft.mp4'\n",
    "clip2 = VideoFileClip(\"test_videos/solidYellowLeft.mp4\")\n",
    "yellow_clip = clip2.fl_image(process_image) #NOTE: this function expects color images!!\n",
    "%time yellow_clip.write_videofile(yellow_output, audio=False)"
   ]
  },
  {
   "cell_type": "code",
   "execution_count": 93,
   "metadata": {
    "collapsed": false
   },
   "outputs": [
    {
     "data": {
      "text/html": [
       "\n",
       "<video width=\"960\" height=\"540\" controls>\n",
       "  <source src=\"test_videos_output/solidYellowLeft.mp4\">\n",
       "</video>\n"
      ],
      "text/plain": [
       "<IPython.core.display.HTML object>"
      ]
     },
     "execution_count": 93,
     "metadata": {},
     "output_type": "execute_result"
    }
   ],
   "source": [
    "HTML(\"\"\"\n",
    "<video width=\"960\" height=\"540\" controls>\n",
    "  <source src=\"{0}\">\n",
    "</video>\n",
    "\"\"\".format(yellow_output))"
   ]
  }
 ],
 "metadata": {
  "anaconda-cloud": {},
  "kernelspec": {
   "display_name": "Python 3",
   "language": "python",
   "name": "python3"
  },
  "language_info": {
   "codemirror_mode": {
    "name": "ipython",
    "version": 3
   },
   "file_extension": ".py",
   "mimetype": "text/x-python",
   "name": "python",
   "nbconvert_exporter": "python",
   "pygments_lexer": "ipython3",
   "version": "3.5.2"
  },
  "widgets": {
   "state": {},
   "version": "1.1.2"
  }
 },
 "nbformat": 4,
 "nbformat_minor": 1
}
